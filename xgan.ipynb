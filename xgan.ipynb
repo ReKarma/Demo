{
 "cells": [
  {
   "cell_type": "markdown",
   "metadata": {},
   "source": [
    "# X-GAN"
   ]
  },
  {
   "cell_type": "markdown",
   "metadata": {},
   "source": [
    "### 引入库函数"
   ]
  },
  {
   "cell_type": "code",
   "execution_count": 1,
   "metadata": {},
   "outputs": [],
   "source": [
    "\n",
    "import numpy as np\n",
    "import os\n",
    "import cv2\n",
    "import math\n",
    "\n",
    "from PIL import Image, ImageFilter\n",
    "import matplotlib.pyplot as plt\n"
   ]
  },
  {
   "cell_type": "markdown",
   "metadata": {},
   "source": [
    "### 将图像转化为矩阵并返回"
   ]
  },
  {
   "cell_type": "code",
   "execution_count": 2,
   "metadata": {},
   "outputs": [],
   "source": [
    "def readimage(image):\n",
    "    A = Image.open(image).convert('L')\n",
    "    B = Image.open(image)\n",
    "    a = np.array(A)\n",
    "    b = np.array(B)\n",
    "    return a,b"
   ]
  },
  {
   "cell_type": "markdown",
   "metadata": {},
   "source": [
    "### rgb2grey"
   ]
  },
  {
   "cell_type": "code",
   "execution_count": 3,
   "metadata": {},
   "outputs": [],
   "source": [
    "def rgb2gray(rgb):\n",
    "    return np.dot(rgb[...,:3], [0.299, 0.587, 0.114])"
   ]
  },
  {
   "cell_type": "markdown",
   "metadata": {},
   "source": [
    "### 将矩阵转化为图像"
   ]
  },
  {
   "cell_type": "code",
   "execution_count": 4,
   "metadata": {},
   "outputs": [],
   "source": [
    "def MatrixToImage(R,G,B):\n",
    "    # 得到RGB通道\n",
    "    r = Image.fromarray(R).convert('L')\n",
    "    g = Image.fromarray(G).convert('L')\n",
    "    b = Image.fromarray(B).convert('L')\n",
    "    image = Image.merge(\"RGB\", (r, g, b))\n",
    "    return image  "
   ]
  },
  {
   "cell_type": "markdown",
   "metadata": {},
   "source": [
    "### 图像显示"
   ]
  },
  {
   "cell_type": "code",
   "execution_count": 5,
   "metadata": {},
   "outputs": [],
   "source": [
    "def show(img):\n",
    "    plt.figure(\"Image\") # 图像窗口名称\n",
    "    plt.imshow(img)\n",
    "    plt.axis('on') # 关掉坐标轴为 off\n",
    "    plt.title('image') # 图像题目\n",
    "    plt.show() "
   ]
  },
  {
   "cell_type": "markdown",
   "metadata": {},
   "source": [
    "### 卷积"
   ]
  },
  {
   "cell_type": "code",
   "execution_count": 6,
   "metadata": {},
   "outputs": [],
   "source": [
    "def convolve(image, weight):\n",
    "    height, width = image.shape\n",
    "    h, w = weight.shape\n",
    "    height_new = height - h + 1\n",
    "    width_new = width - w + 1\n",
    "    image_new = np.zeros((height_new, width_new), dtype=np.float)\n",
    "    for i in range(height_new):\n",
    "        for j in range(width_new):\n",
    "            image_new[i,j] = np.sum(image[i:i+h, j:j+w] * weight)\n",
    "    image_new = image_new.clip(0,255)\n",
    "    #image_new = np.rint(image_new).astype('uint8')\n",
    "    return image_new"
   ]
  },
  {
   "cell_type": "markdown",
   "metadata": {},
   "source": [
    "### Sobel-RGB"
   ]
  },
  {
   "cell_type": "code",
   "execution_count": 7,
   "metadata": {},
   "outputs": [],
   "source": [
    "def sobel(image,name):\n",
    "     \n",
    "    a=readimage(image)\n",
    "    print(a.shape)\n",
    "    \n",
    "    soble_x = np.array(([-1, 0, 1], [-2, 0, 2], [-1, 0, 1]))\n",
    "    soble_y = np.array(([-1, -2, -1], [0, 0, 0], [1, 2, 1]))\n",
    "     \n",
    "    #在三个通道上做水平方向上的卷积\n",
    "    \n",
    "    R0 = convolve(a[:, :, 0], soble_x)\n",
    "    G0 = convolve(a[:, :, 1], soble_x)\n",
    "    B0 = convolve(a[:, :, 2], soble_x)\n",
    "    \n",
    "    #在三个通道上做垂直方向上的卷积\n",
    "    R1 = convolve(a[:, :, 0], soble_y)\n",
    "    G1 = convolve(a[:, :, 1], soble_y)\n",
    "    B1 = convolve(a[:, :, 2], soble_y)\n",
    "    \n",
    "    #综合水平方向和垂直方向上的信息\n",
    "    Rx=R0*R0+R1*R1\n",
    "    Gx=G0*G0+G1*G1\n",
    "    Bx=B0*B0+B1*B1\n",
    "    print(f'the max value of the gradients {np.max(Rx)}')\n",
    "    print(f'the min value of the gradients {np.min(Rx)}')\n",
    "    #做开方处理，为方便下面对于Canny第二步的处理\n",
    "    l=Rx.shape[0]\n",
    "    w=Rx.shape[1]\n",
    "    R=np.zeros([l,w],float)\n",
    "    G=np.zeros([l,w],float)\n",
    "    B=np.zeros([l,w],float)\n",
    "    \n",
    "    theR=np.zeros([l,w],float)\n",
    "    theG=np.zeros([l,w],float)\n",
    "    theB=np.zeros([l,w],float)\n",
    "    \n",
    "    for i in range(l):\n",
    "        for j in range(w):\n",
    "            R[i,j]=np.rint((math.sqrt(Rx[i,j]))).astype('uint8')\n",
    "            G[i,j]=np.rint((math.sqrt(Gx[i,j]))).astype('uint8')\n",
    "            B[i,j]=np.rint((math.sqrt(Bx[i,j]))).astype('uint8')\n",
    "            \n",
    "            theR[i,j]=math.atan2(R0[i,j],R1[i,j])*180/math.pi\n",
    "            theG[i,j]=math.atan2(G0[i,j],G1[i,j])*180/math.pi\n",
    "            theB[i,j]=math.atan2(B0[i,j],B1[i,j])*180/math.pi\n",
    "    \n",
    "    img=MatrixToImage(R,G,B)\n",
    "    gradients = MatrixToImage(Rx,Gx,Bx)\n",
    "    show(img)\n",
    "    show(gradients)\n",
    "    img.save('./'+name+'sobel.png','png')\n",
    "    img = np.array(img)\n",
    "    return img,gradients\n"
   ]
  },
  {
   "cell_type": "markdown",
   "metadata": {},
   "source": [
    "### Sobel-Grey"
   ]
  },
  {
   "cell_type": "code",
   "execution_count": 8,
   "metadata": {},
   "outputs": [],
   "source": [
    "def grey_sobel(image,name):\n",
    "     \n",
    "    a = image\n",
    "    \n",
    "    soble_x = np.array(([-1, 0, 1], [-2, 0, 2], [-1, 0, 1]))\n",
    "    soble_y = np.array(([-1, -2, -1], [0, 0, 0], [1, 2, 1]))\n",
    "     \n",
    "    #在三个通道上做水平方向上的卷积\n",
    "    \n",
    "    x = convolve(a,soble_x)\n",
    "    \n",
    "    #在三个通道上做垂直方向上的卷积\n",
    "    y = convolve(a,soble_y)\n",
    "    \n",
    "    #综合水平方向和垂直方向上的信息\n",
    "    gradients=np.sqrt(x*x+y*y)\n",
    "\n",
    "    return gradients\n"
   ]
  },
  {
   "cell_type": "markdown",
   "metadata": {},
   "source": [
    "### image-crop"
   ]
  },
  {
   "cell_type": "code",
   "execution_count": 9,
   "metadata": {},
   "outputs": [],
   "source": [
    "def img_crop(path):\n",
    "    img=Image.open(path)\n",
    "    box=(1,1,249,249)\n",
    "    roi=img.crop(box)\n",
    "    roi=np.array(roi)\n",
    "    return roi[:, :, 0:3]\n",
    "#     print(roi.shape)"
   ]
  },
  {
   "cell_type": "markdown",
   "metadata": {},
   "source": [
    "### Sigmoid"
   ]
  },
  {
   "cell_type": "code",
   "execution_count": 10,
   "metadata": {},
   "outputs": [],
   "source": [
    "def sigmoid(x):\n",
    "    s = 1 / (1 + np.exp(-x))\n",
    "    return s"
   ]
  },
  {
   "cell_type": "markdown",
   "metadata": {},
   "source": [
    "### Choose Pixels"
   ]
  },
  {
   "cell_type": "code",
   "execution_count": 20,
   "metadata": {},
   "outputs": [],
   "source": [
    "import numpy.ma as ma\n",
    "\n",
    "def choose(img,probability,num):\n",
    "    count = 0\n",
    "    total = img.size\n",
    "    rate = num /total\n",
    "    print(f'rate {rate}')\n",
    "    channel = img.shape[2]\n",
    "    proba = probability.reshape(-1)\n",
    "    number = int(np.ceil(rate * probability.size))\n",
    "    print(f'number {number}')\n",
    "    value = np.sort(-proba)\n",
    "    print(value)\n",
    "    value = -value[number]\n",
    "    print(f'threshold {value}')\n",
    "    threshold = np.full_like(probability,value)\n",
    "    mask = probability > threshold\n",
    "#     print(f'the number of the mask {mask}')\n",
    "    out = img[:,:,0:3]\n",
    "#     print(f'the shape of the img {img.shape}')\n",
    "#     print(f'the shape of the probability  {probability.shape}')\n",
    "        \n",
    "    out[:,:,0] = mask * img[:,:,0]\n",
    "    out[:,:,1] = mask * img[:,:,1]\n",
    "    out[:,:,2] = mask * img[:,:,2]\n",
    "    for i in range(out.shape[0]):\n",
    "        for j in range(out.shape[1]):\n",
    "            for k in range(out.shape[2]):\n",
    "                if out[i,j,k]==0:\n",
    "                    out[i,j,k]=255\n",
    "    print(out.shape)\n",
    "    return out\n"
   ]
  },
  {
   "cell_type": "markdown",
   "metadata": {},
   "source": [
    "### padding "
   ]
  },
  {
   "cell_type": "code",
   "execution_count": 13,
   "metadata": {},
   "outputs": [],
   "source": [
    "\n",
    "def padding(img,mode='rgb'):\n",
    "    if mode == 'rgb':\n",
    "        padX= np.pad(img,((1,1),(1,1),(0,0)),'edge',)\n",
    "    elif mode =='grey':\n",
    "        padX= np.pad(img,((1,1),(1,1)),'edge',)\n",
    "    else:\n",
    "        print('ERROR MODE')\n",
    "    return padX\n"
   ]
  },
  {
   "cell_type": "markdown",
   "metadata": {},
   "source": [
    "### Main"
   ]
  },
  {
   "cell_type": "code",
   "execution_count": 25,
   "metadata": {},
   "outputs": [
    {
     "name": "stdout",
     "output_type": "stream",
     "text": [
      "rate 0.06570647603027754\n",
      "number 12500\n",
      "[-360.62445841 -360.62445841 -360.62445841 ...   -0.           -0.\n",
      "   -0.        ]\n",
      "threshold 159.9624956044385\n",
      "(328, 580, 3)\n"
     ]
    },
    {
     "data": {
      "image/png": "[encoded data removed]",
      "text/plain": [
       "<Figure size 432x288 with 1 Axes>"
      ]
     },
     "metadata": {
      "needs_background": "light"
     },
     "output_type": "display_data"
    }
   ],
   "source": [
    "\n",
    "if __name__ == \"__main__\":\n",
    "    image='1.png'\n",
    "    grey,rgb =  readimage(image)\n",
    "    grey = padding(grey,mode='grey')\n",
    "    gradients = grey_sobel(grey,'sobel') \n",
    "#     probability = sigmoid(gradients)\n",
    "    pic = choose(rgb,gradients,50000)\n",
    "    pic = MatrixToImage(pic[:, :, 0],pic[:, :, 1],pic[:, :, 2])\n",
    "    show(pic)\n",
    "    pic.save('./choose.png','png')"
   ]
  },
  {
   "cell_type": "markdown",
   "metadata": {},
   "source": [
    "### 查看颜色"
   ]
  },
  {
   "cell_type": "code",
   "execution_count": null,
   "metadata": {},
   "outputs": [],
   "source": [
    "from PIL import ImageColor\n",
    "print(ImageColor.getcolor('red', 'RGBA'))\n",
    "# 也可以只以RBG的方式查看\n",
    "print(ImageColor.getcolor('white', 'RGB'))"
   ]
  }
 ],
 "metadata": {
  "celltoolbar": "Raw Cell Format",
  "kernelspec": {
   "display_name": "Python 3",
   "language": "python",
   "name": "python3"
  },
  "language_info": {
   "codemirror_mode": {
    "name": "ipython",
    "version": 3
   },
   "file_extension": ".py",
   "mimetype": "text/x-python",
   "name": "python",
   "nbconvert_exporter": "python",
   "pygments_lexer": "ipython3",
   "version": "3.6.8"
  }
 },
 "nbformat": 4,
 "nbformat_minor": 2
}
